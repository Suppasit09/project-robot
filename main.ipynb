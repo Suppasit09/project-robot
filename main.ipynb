{
  "nbformat": 4,
  "nbformat_minor": 0,
  "metadata": {
    "colab": {
      "provenance": []
    },
    "kernelspec": {
      "name": "python3",
      "display_name": "Python 3"
    },
    "language_info": {
      "name": "python"
    }
  },
  "cells": [
    {
      "cell_type": "code",
      "execution_count": null,
      "metadata": {
        "id": "AdW69oP_a-B3"
      },
      "outputs": [],
      "source": [
        "#!/usr/bin/env python\n",
        "\n",
        "import rospy\n",
        "from std_srvs.srv import Empty\n",
        "\n",
        "def main():\n",
        "    rospy.init_node('main_node')\n",
        "    rospy.wait_for_service('/go_to_kitchen')\n",
        "    go_to_kitchen_service = rospy.ServiceProxy('/go_to_kitchen', Empty)\n",
        "    rospy.wait_for_service('/stop')\n",
        "    stop_service = rospy.ServiceProxy('/stop', Empty)\n",
        "    rospy.wait_for_service('/go_home')\n",
        "    go_home_service = rospy.ServiceProxy('/go_home', Empty)\n",
        "\n",
        "    # Go to kitchen\n",
        "    rospy.loginfo(\"Going to kitchen.\")\n",
        "    go_to_kitchen_service()\n",
        "    rospy.loginfo(\"Reached the kitchen.\")\n",
        "\n",
        "    # Stop\n",
        "    stop_service()\n",
        "    rospy.loginfo(\"Stopped.\")\n",
        "\n",
        "    # Go home\n",
        "    rospy.loginfo(\"Going back home.\")\n",
        "    go_home_service()\n",
        "    rospy.loginfo(\"Reached home.\")\n",
        "\n",
        "    # Stop again\n",
        "    stop_service()\n",
        "    rospy.loginfo(\"Stopped.\")\n",
        "\n",
        "if __name__ == '__main__':\n",
        "    main()\n"
      ]
    }
  ]
}