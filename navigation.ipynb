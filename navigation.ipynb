{
  "nbformat": 4,
  "nbformat_minor": 0,
  "metadata": {
    "colab": {
      "provenance": []
    },
    "kernelspec": {
      "name": "python3",
      "display_name": "Python 3"
    },
    "language_info": {
      "name": "python"
    }
  },
  "cells": [
    {
      "cell_type": "code",
      "execution_count": null,
      "metadata": {
        "id": "Sd3iAlZg0iJo"
      },
      "outputs": [],
      "source": [
        "import rospy\n",
        "import time\n",
        "from std_srvs.srv import Empty, EmptyResponse\n",
        "\n",
        "def handle_go_home(request):\n",
        "    rospy.loginfo(\"Going to home.\")\n",
        "    time.sleep(2)\n",
        "    rospy.loginfo(\"Arrived.\")\n",
        "    return EmptyResponse()\n",
        "\n",
        "def handle_go_to_kitchen(request):\n",
        "    rospy.loginfo(\"Going to kitchen.\")\n",
        "    time.sleep(2)\n",
        "    rospy.loginfo(\"Arrived.\")\n",
        "    return EmptyResponse()\n",
        "\n",
        "def handle_stop(request):\n",
        "    rospy.loginfo(\"Stop!\")\n",
        "    return EmptyResponse()\n",
        "\n",
        "def navigation_server():\n",
        "    rospy.init_node('navigation_server')\n",
        "    rospy.Service('/go_home', Empty, handle_go_home)\n",
        "    rospy.Service('/go_to_kitchen', Empty, handle_go_to_kitchen)\n",
        "    rospy.Service('/stop', Empty, handle_stop)\n",
        "    rospy.loginfo(\"Navigation server is running.\")\n",
        "    rospy.spin()\n",
        "\n",
        "if __name__ == '__main__':\n",
        "    navigation_server()"
      ]
    }
  ]
}